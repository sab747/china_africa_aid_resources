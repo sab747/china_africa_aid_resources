{
 "cells": [
  {
   "cell_type": "markdown",
   "id": "529e5e4e",
   "metadata": {},
   "source": [
    "## Chinese Loans to African Countries by Natural Resource Reserves"
   ]
  },
  {
   "cell_type": "markdown",
   "id": "2a3223b1",
   "metadata": {},
   "source": [
    "## Setup"
   ]
  },
  {
   "cell_type": "code",
   "execution_count": 174,
   "id": "e78fee2a",
   "metadata": {},
   "outputs": [],
   "source": [
    "import pandas as pd\n",
    "import numpy as np\n",
    "import matplotlib.pyplot as plt\n",
    "import statsmodels.api as sm"
   ]
  },
  {
   "cell_type": "markdown",
   "id": "faee00b4",
   "metadata": {},
   "source": [
    "## Import Data"
   ]
  },
  {
   "cell_type": "code",
   "execution_count": 179,
   "id": "f02e8291",
   "metadata": {},
   "outputs": [],
   "source": [
    "chinese_dev_finance = pd.read_excel(r'AidData_GCDFD_v2.xlsx', sheet_name='AidData_GCDFD_v2')\n",
    "rare_earths = pd.read_csv(r'./ree/main.csv')"
   ]
  },
  {
   "cell_type": "code",
   "execution_count": 176,
   "id": "90d5e819",
   "metadata": {},
   "outputs": [],
   "source": [
    "# group by country\n",
    "rare_earth_country = rare_earths.groupby(['country']).size().reset_index()\n",
    "\n",
    "# Filter out certain flow types\n",
    "chinese_dev_finance_grants = chinese_dev_finance[chinese_dev_finance['Flow Type'] == 'Grant']\n",
    "chinese_dev_finance_loans = chinese_dev_finance[chinese_dev_finance['Flow Type'] == 'Loan']\n",
    "\n",
    "# TO-DO : Reconcile country names (some are different in both data sets)"
   ]
  },
  {
   "cell_type": "code",
   "execution_count": null,
   "id": "f276ab3e",
   "metadata": {},
   "outputs": [],
   "source": []
  },
  {
   "cell_type": "code",
   "execution_count": 181,
   "id": "a3621d19",
   "metadata": {},
   "outputs": [
    {
     "name": "stdout",
     "output_type": "stream",
     "text": [
      "['Pakistan', 'Eritrea', 'Belarus', 'Niue', 'Cabo Verde', 'Panama', 'Micronesia', 'Yemen', 'Brunei Darussalam', 'Maldives', 'Niger', 'Chile', 'Comoros', 'West Bank and Gaza Strip', 'Tonga', 'Moldova', 'Jamaica', 'Guinea-Bissau', 'Africa, regional', 'French Polynesia', 'Jordan', 'Seychelles', 'Guam', 'Iraq', 'Sao Tome and Principe', 'Israel', 'Tunisia', 'Democratic Republic of the Congo', 'El Salvador', 'Bahamas', 'North Macedonia', 'Oman', 'Azerbaijan', 'Togo', 'Gambia', 'Haiti', 'Curacao', 'Lebanon', 'Vanuatu', 'Georgia', 'Cuba', 'Marshall Islands', 'Palau', 'South Sudan', 'Costa Rica', 'Bosnia and Herzegovina', 'Fiji', 'Turkmenistan', 'Nepal', 'Equatorial Guinea', 'Timor-Leste', 'Montenegro', 'Peru', 'Grenada', 'Papua New Guinea', 'Mauritius', 'Barbados', 'Trinidad and Tobago', 'Saint Lucia', 'Ethiopia', 'Kiribati', 'Albania', 'Sudan', 'Cambodia', 'Algeria', 'Nauru', 'Antigua and Barbuda', 'Central African Republic', 'Lesotho', \"Lao People's Democratic Republic\", 'Djibouti', 'Iran', 'Cook Islands', 'Serbia', 'Syrian Arab Republic', 'Multi-Region', 'Bulgaria', 'Senegal', 'Samoa', 'Honduras', 'Ecuador', 'Chad', 'Sint Maarten (Dutch part)', \"Cote d'Ivoire\", 'Nicaragua', 'Dominica', 'Dominican Republic', 'Botswana']\n",
      "['Norway', 'Canada', 'Greenland', 'Denmark', 'Australia', 'Saudi Arabia', 'Korea, Republic of', 'USSR', 'Taiwan', 'Poland', 'Germany', 'New Zealand', 'United States', 'Finland', 'Sweden', 'China', 'United Arab Emirates']\n"
     ]
    }
   ],
   "source": [
    "# Clean duplicate + regional names\n",
    "names_to_be_replaced = {'Viet Nam': 'Vietnam', 'Congo (Zaire)': 'Congo', 'Surinam': 'Suriname', 'Burma': 'Myanmar', 'Kyrgyz Republic': 'Kyrgyzstan', \"Democratic People's Republic of Korea\": 'North Korea'}\n",
    "for old_name, new_name in names_to_be_replaced.items():\n",
    "    chinese_dev_finance['Recipient'] = chinese_dev_finance['Recipient'].replace([old_name],new_name)\n",
    "    rare_earth_country['country'] = rare_earth_country['country'].replace([old_name],new_name)\n",
    "\n",
    "names_to_delete = ['Asia, regional', 'Oceania, regional', 'Europe, regional', 'America, regional', 'Middle East, regional']\n",
    "for name in names_to_delete:\n",
    "    chinese_dev_finance = chinese_dev_finance[chinese_dev_finance['Recipient'] != name]\n",
    "\n",
    "x = chinese_dev_finance['Recipient'].tolist()\n",
    "y = rare_earth_country['country'].tolist()\n",
    "print(list(set(x) - set(y))) # in China finance dataset but not in rare earths dataset\n",
    "print(list(set(y) - set(x))) # in rare earths dataset but not in China dataset"
   ]
  },
  {
   "cell_type": "markdown",
   "id": "d6780643",
   "metadata": {},
   "source": [
    "# Run OLS"
   ]
  },
  {
   "cell_type": "code",
   "execution_count": 182,
   "id": "69a6b9b8",
   "metadata": {},
   "outputs": [],
   "source": [
    "def combine_dataframes (cfd_df, rare_earth_df, sep_year=False, cfd_dropna=True, rare_earth_dropna=False): \n",
    "    cfd_df = cfd_df[['Recipient', 'Commitment Year', 'Amount (Constant USD2017)']]\n",
    "    if not sep_year:\n",
    "        cfd_df = cfd_df.groupby(['Recipient'])['Amount (Constant USD2017)'].sum().reset_index()\n",
    "    else:\n",
    "        cfd_df = cfd_df.groupby(['Recipient', 'Commitment Year'])['Amount (Constant USD2017)'].sum().reset_index()\n",
    "    rare_earth_df = rare_earth_df.groupby(['country']).size().reset_index()\n",
    "\n",
    "    # rename columns\n",
    "    cfd_df = cfd_df.rename(columns={'Recipient':'country'})\n",
    "    rare_earth_df = rare_earth_df.rename(columns={0: 'Rare Earth Deposits'})\n",
    "\n",
    "    # deal with null values\n",
    "    if cfd_dropna and rare_earth_dropna:\n",
    "        result = pd.merge(cfd_df, rare_earth_df, on='country')\n",
    "    elif cfd_dropna:\n",
    "        result = pd.merge(cfd_df, rare_earth_df, on='country', how='left')\n",
    "    elif rare_earth_dropna:\n",
    "        result = pd.merge(cfd_df, rare_earth_df, on='country', how='right')\n",
    "    else:\n",
    "        result = pd.merge(cfd_df, rare_earth_df, on='country', how='outer')\n",
    "    result = result.fillna(0)\n",
    "\n",
    "    return result"
   ]
  },
  {
   "cell_type": "code",
   "execution_count": 183,
   "id": "e55bed7b",
   "metadata": {},
   "outputs": [],
   "source": [
    "def run_ols (df, x_vars='Rare Earth Deposits', y_vars='Amount (Constant USD2017)', constant=True):\n",
    "    x = df[x_vars].tolist()\n",
    "    y = df[y_vars].tolist()\n",
    "\n",
    "    if constant:\n",
    "        x = sm.add_constant(x)\n",
    "\n",
    "    # performing the regression\n",
    "    # and fitting the model\n",
    "    result = sm.OLS(y, x).fit()\n",
    "  \n",
    "    # printing the summary table\n",
    "    print(result.summary())"
   ]
  },
  {
   "cell_type": "code",
   "execution_count": 184,
   "id": "a6548374",
   "metadata": {},
   "outputs": [
    {
     "name": "stdout",
     "output_type": "stream",
     "text": [
      "                            OLS Regression Results                            \n",
      "==============================================================================\n",
      "Dep. Variable:                      y   R-squared:                       0.269\n",
      "Model:                            OLS   Adj. R-squared:                  0.264\n",
      "Method:                 Least Squares   F-statistic:                     53.33\n",
      "Date:                Tue, 01 Feb 2022   Prob (F-statistic):           1.72e-11\n",
      "Time:                        21:23:55   Log-Likelihood:                -3714.7\n",
      "No. Observations:                 147   AIC:                             7433.\n",
      "Df Residuals:                     145   BIC:                             7439.\n",
      "Df Model:                           1                                         \n",
      "Covariance Type:            nonrobust                                         \n",
      "==============================================================================\n",
      "                 coef    std err          t      P>|t|      [0.025      0.975]\n",
      "------------------------------------------------------------------------------\n",
      "const       6.493e+09   2.03e+09      3.192      0.002    2.47e+09    1.05e+10\n",
      "x1          2.133e+09   2.92e+08      7.303      0.000    1.56e+09    2.71e+09\n",
      "==============================================================================\n",
      "Omnibus:                      144.157   Durbin-Watson:                   2.077\n",
      "Prob(Omnibus):                  0.000   Jarque-Bera (JB):             2291.047\n",
      "Skew:                           3.602   Prob(JB):                         0.00\n",
      "Kurtosis:                      20.948   Cond. No.                         7.49\n",
      "==============================================================================\n",
      "\n",
      "Notes:\n",
      "[1] Standard Errors assume that the covariance matrix of the errors is correctly specified.\n"
     ]
    }
   ],
   "source": [
    "# all recipients, all flows\n",
    "combined_agg = combine_dataframes(chinese_dev_finance, rare_earths)\n",
    "run_ols(combined_agg)"
   ]
  },
  {
   "cell_type": "code",
   "execution_count": 185,
   "id": "a6548374",
   "metadata": {},
   "outputs": [
    {
     "name": "stdout",
     "output_type": "stream",
     "text": [
      "                            OLS Regression Results                            \n",
      "==============================================================================\n",
      "Dep. Variable:                      y   R-squared:                       0.023\n",
      "Model:                            OLS   Adj. R-squared:                  0.017\n",
      "Method:                 Least Squares   F-statistic:                     3.848\n",
      "Date:                Tue, 01 Feb 2022   Prob (F-statistic):             0.0515\n",
      "Time:                        21:24:03   Log-Likelihood:                -4235.7\n",
      "No. Observations:                 167   AIC:                             8475.\n",
      "Df Residuals:                     165   BIC:                             8482.\n",
      "Df Model:                           1                                         \n",
      "Covariance Type:            nonrobust                                         \n",
      "==============================================================================\n",
      "                 coef    std err          t      P>|t|      [0.025      0.975]\n",
      "------------------------------------------------------------------------------\n",
      "const       9.192e+09   2.05e+09      4.475      0.000    5.14e+09    1.32e+10\n",
      "x1          2.639e+08   1.35e+08      1.962      0.051   -1.73e+06     5.3e+08\n",
      "==============================================================================\n",
      "Omnibus:                      179.423   Durbin-Watson:                   1.869\n",
      "Prob(Omnibus):                  0.000   Jarque-Bera (JB):             3709.734\n",
      "Skew:                           4.217   Prob(JB):                         0.00\n",
      "Kurtosis:                      24.494   Cond. No.                         16.1\n",
      "==============================================================================\n",
      "\n",
      "Notes:\n",
      "[1] Standard Errors assume that the covariance matrix of the errors is correctly specified.\n"
     ]
    }
   ],
   "source": [
    "# all countries w/ rare earths, all flows\n",
    "combined_agg_allcountries = combine_dataframes(chinese_dev_finance, rare_earths, cfd_dropna=False)\n",
    "run_ols(combined_agg_allcountries)"
   ]
  },
  {
   "cell_type": "code",
   "execution_count": 186,
   "id": "a6548374",
   "metadata": {},
   "outputs": [
    {
     "name": "stdout",
     "output_type": "stream",
     "text": [
      "                            OLS Regression Results                            \n",
      "==============================================================================\n",
      "Dep. Variable:                      y   R-squared:                       0.275\n",
      "Model:                            OLS   Adj. R-squared:                  0.270\n",
      "Method:                 Least Squares   F-statistic:                     51.27\n",
      "Date:                Tue, 01 Feb 2022   Prob (F-statistic):           4.68e-11\n",
      "Time:                        21:24:12   Log-Likelihood:                -3450.5\n",
      "No. Observations:                 137   AIC:                             6905.\n",
      "Df Residuals:                     135   BIC:                             6911.\n",
      "Df Model:                           1                                         \n",
      "Covariance Type:            nonrobust                                         \n",
      "==============================================================================\n",
      "                 coef    std err          t      P>|t|      [0.025      0.975]\n",
      "------------------------------------------------------------------------------\n",
      "const        4.85e+09   1.94e+09      2.506      0.013    1.02e+09    8.68e+09\n",
      "x1          2.016e+09   2.82e+08      7.161      0.000    1.46e+09    2.57e+09\n",
      "==============================================================================\n",
      "Omnibus:                      159.336   Durbin-Watson:                   1.889\n",
      "Prob(Omnibus):                  0.000   Jarque-Bera (JB):             4314.495\n",
      "Skew:                           4.292   Prob(JB):                         0.00\n",
      "Kurtosis:                      29.118   Cond. No.                         7.39\n",
      "==============================================================================\n",
      "\n",
      "Notes:\n",
      "[1] Standard Errors assume that the covariance matrix of the errors is correctly specified.\n"
     ]
    }
   ],
   "source": [
    "# all recipients, only loans\n",
    "combined_onlyloans = combine_dataframes(chinese_dev_finance_loans, rare_earths)\n",
    "run_ols(combined_onlyloans)"
   ]
  },
  {
   "cell_type": "code",
   "execution_count": 187,
   "id": "09c1d998",
   "metadata": {},
   "outputs": [
    {
     "name": "stdout",
     "output_type": "stream",
     "text": [
      "                            OLS Regression Results                            \n",
      "==============================================================================\n",
      "Dep. Variable:                      y   R-squared:                       0.002\n",
      "Model:                            OLS   Adj. R-squared:                 -0.005\n",
      "Method:                 Least Squares   F-statistic:                    0.3014\n",
      "Date:                Tue, 01 Feb 2022   Prob (F-statistic):              0.584\n",
      "Time:                        21:24:20   Log-Likelihood:                -3120.3\n",
      "No. Observations:                 142   AIC:                             6245.\n",
      "Df Residuals:                     140   BIC:                             6251.\n",
      "Df Model:                           1                                         \n",
      "Covariance Type:            nonrobust                                         \n",
      "==============================================================================\n",
      "                 coef    std err          t      P>|t|      [0.025      0.975]\n",
      "------------------------------------------------------------------------------\n",
      "const       3.384e+08   7.64e+07      4.432      0.000    1.87e+08    4.89e+08\n",
      "x1         -6.207e+06   1.13e+07     -0.549      0.584   -2.86e+07    1.61e+07\n",
      "==============================================================================\n",
      "Omnibus:                      225.369   Durbin-Watson:                   1.610\n",
      "Prob(Omnibus):                  0.000   Jarque-Bera (JB):            16399.812\n",
      "Skew:                           6.897   Prob(JB):                         0.00\n",
      "Kurtosis:                      53.809   Cond. No.                         7.24\n",
      "==============================================================================\n",
      "\n",
      "Notes:\n",
      "[1] Standard Errors assume that the covariance matrix of the errors is correctly specified.\n"
     ]
    }
   ],
   "source": [
    "# all recipients, only grants\n",
    "combined_onlygrants = combine_dataframes(chinese_dev_finance_grants, rare_earths)\n",
    "run_ols(combined_onlygrants)"
   ]
  },
  {
   "cell_type": "code",
   "execution_count": 188,
   "id": "b3ada3fe",
   "metadata": {},
   "outputs": [
    {
     "name": "stdout",
     "output_type": "stream",
     "text": [
      "                            OLS Regression Results                            \n",
      "==============================================================================\n",
      "Dep. Variable:                      y   R-squared:                       0.233\n",
      "Model:                            OLS   Adj. R-squared:                  0.219\n",
      "Method:                 Least Squares   F-statistic:                     16.41\n",
      "Date:                Tue, 01 Feb 2022   Prob (F-statistic):           0.000165\n",
      "Time:                        21:24:22   Log-Likelihood:                -1436.6\n",
      "No. Observations:                  56   AIC:                             2877.\n",
      "Df Residuals:                      54   BIC:                             2881.\n",
      "Df Model:                           1                                         \n",
      "Covariance Type:            nonrobust                                         \n",
      "==============================================================================\n",
      "                 coef    std err          t      P>|t|      [0.025      0.975]\n",
      "------------------------------------------------------------------------------\n",
      "const        8.66e+09   5.63e+09      1.539      0.130   -2.62e+09    1.99e+10\n",
      "x1           2.02e+09   4.99e+08      4.051      0.000    1.02e+09    3.02e+09\n",
      "==============================================================================\n",
      "Omnibus:                       50.672   Durbin-Watson:                   1.952\n",
      "Prob(Omnibus):                  0.000   Jarque-Bera (JB):              204.556\n",
      "Skew:                           2.588   Prob(JB):                     3.81e-45\n",
      "Kurtosis:                      10.803   Cond. No.                         14.0\n",
      "==============================================================================\n",
      "\n",
      "Notes:\n",
      "[1] Standard Errors assume that the covariance matrix of the errors is correctly specified.\n"
     ]
    }
   ],
   "source": [
    "# all recipients w/rare earths\n",
    "combined_recip_with_re = combine_dataframes(chinese_dev_finance, rare_earths, rare_earth_dropna=True)\n",
    "run_ols(combined_recip_with_re)"
   ]
  }
 ],
 "metadata": {
  "kernelspec": {
   "display_name": "Python 3 (ipykernel)",
   "language": "python",
   "name": "python3"
  },
  "language_info": {
   "codemirror_mode": {
    "name": "ipython",
    "version": 3
   },
   "file_extension": ".py",
   "mimetype": "text/x-python",
   "name": "python",
   "nbconvert_exporter": "python",
   "pygments_lexer": "ipython3",
   "version": "3.8.9"
  }
 },
 "nbformat": 4,
 "nbformat_minor": 5
}
