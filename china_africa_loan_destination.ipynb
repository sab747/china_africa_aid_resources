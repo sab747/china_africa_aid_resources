{
 "cells": [
  {
   "cell_type": "markdown",
   "id": "529e5e4e",
   "metadata": {},
   "source": [
    "## Chinese Loans to African Countries by Natural Resource Reserves"
   ]
  },
  {
   "cell_type": "markdown",
   "id": "2a3223b1",
   "metadata": {},
   "source": [
    "## Setup"
   ]
  },
  {
   "cell_type": "code",
   "execution_count": 1,
   "id": "e78fee2a",
   "metadata": {},
   "outputs": [
    {
     "name": "stderr",
     "output_type": "stream",
     "text": [
      "/Users/jainsabr/workspace/china_africa_aid_resources/env/lib/python3.8/site-packages/statsmodels/compat/pandas.py:65: FutureWarning: pandas.Int64Index is deprecated and will be removed from pandas in a future version. Use pandas.Index with the appropriate dtype instead.\n",
      "  from pandas import Int64Index as NumericIndex\n"
     ]
    }
   ],
   "source": [
    "import pandas as pd\n",
    "import numpy as np\n",
    "import matplotlib.pyplot as plt\n",
    "import statsmodels.api as sm\n",
    "import countries_listed"
   ]
  },
  {
   "cell_type": "markdown",
   "id": "faee00b4",
   "metadata": {},
   "source": [
    "## Import Data"
   ]
  },
  {
   "cell_type": "code",
   "execution_count": null,
   "id": "f02e8291",
   "metadata": {},
   "outputs": [],
   "source": [
    "chinese_dev_finance = pd.read_excel(r'AidData_GCDFD_v2.xlsx', sheet_name='AidData_GCDFD_v2')\n",
    "rare_earths = pd.read_csv(r'./ree/main.csv')"
   ]
  },
  {
   "cell_type": "code",
   "execution_count": null,
   "id": "90d5e819",
   "metadata": {},
   "outputs": [],
   "source": [
    "# group by country\n",
    "rare_earth_country = rare_earths.groupby(['country']).size().reset_index()\n",
    "\n",
    "# Filter out certain flow types\n",
    "chinese_dev_finance_grants = chinese_dev_finance[chinese_dev_finance['Flow Type'] == 'Grant']\n",
    "chinese_dev_finance_loans = chinese_dev_finance[chinese_dev_finance['Flow Type'] == 'Loan']\n",
    "\n",
    "# TO-DO : Reconcile country names (some are different in both data sets)"
   ]
  },
  {
   "cell_type": "code",
   "execution_count": null,
   "id": "f276ab3e",
   "metadata": {},
   "outputs": [],
   "source": []
  },
  {
   "cell_type": "code",
   "execution_count": null,
   "id": "a3621d19",
   "metadata": {},
   "outputs": [],
   "source": [
    "# Clean duplicate + regional names\n",
    "names_to_be_replaced = {'Viet Nam': 'Vietnam', 'Congo (Zaire)': 'Congo', 'Surinam': 'Suriname', 'Burma': 'Myanmar', 'Kyrgyz Republic': 'Kyrgyzstan', \"Democratic People's Republic of Korea\": 'North Korea'}\n",
    "for old_name, new_name in names_to_be_replaced.items():\n",
    "    chinese_dev_finance['Recipient'] = chinese_dev_finance['Recipient'].replace([old_name],new_name)\n",
    "    rare_earth_country['country'] = rare_earth_country['country'].replace([old_name],new_name)\n",
    "\n",
    "names_to_delete = ['Asia, regional', 'Oceania, regional', 'Europe, regional', 'America, regional', 'Middle East, regional']\n",
    "for name in names_to_delete:\n",
    "    chinese_dev_finance = chinese_dev_finance[chinese_dev_finance['Recipient'] != name]\n",
    "\n",
    "x = chinese_dev_finance['Recipient'].tolist()\n",
    "y = rare_earth_country['country'].tolist()\n",
    "print(list(set(x) - set(y))) # in China finance dataset but not in rare earths dataset\n",
    "print(list(set(y) - set(x))) # in rare earths dataset but not in China dataset"
   ]
  },
  {
   "cell_type": "markdown",
   "id": "d6780643",
   "metadata": {},
   "source": [
    "# Run OLS"
   ]
  },
  {
   "cell_type": "code",
   "execution_count": null,
   "id": "69a6b9b8",
   "metadata": {},
   "outputs": [],
   "source": [
    "def combine_dataframes (cfd_df, rare_earth_df, sep_year=False, cfd_dropna=True, rare_earth_dropna=False): \n",
    "    cfd_df = cfd_df[['Recipient', 'Commitment Year', 'Amount (Constant USD2017)']]\n",
    "    if not sep_year:\n",
    "        cfd_df = cfd_df.groupby(['Recipient'])['Amount (Constant USD2017)'].sum().reset_index()\n",
    "    else:\n",
    "        cfd_df = cfd_df.groupby(['Recipient', 'Commitment Year'])['Amount (Constant USD2017)'].sum().reset_index()\n",
    "    rare_earth_df = rare_earth_df.groupby(['country']).size().reset_index()\n",
    "\n",
    "    # rename columns\n",
    "    cfd_df = cfd_df.rename(columns={'Recipient':'country'})\n",
    "    rare_earth_df = rare_earth_df.rename(columns={0: 'Rare Earth Deposits'})\n",
    "\n",
    "    # deal with null values\n",
    "    if cfd_dropna and rare_earth_dropna:\n",
    "        result = pd.merge(cfd_df, rare_earth_df, on='country')\n",
    "    elif cfd_dropna:\n",
    "        result = pd.merge(cfd_df, rare_earth_df, on='country', how='left')\n",
    "    elif rare_earth_dropna:\n",
    "        result = pd.merge(cfd_df, rare_earth_df, on='country', how='right')\n",
    "    else:\n",
    "        result = pd.merge(cfd_df, rare_earth_df, on='country', how='outer')\n",
    "    result = result.fillna(0)\n",
    "\n",
    "    return result"
   ]
  },
  {
   "cell_type": "code",
   "execution_count": null,
   "id": "e55bed7b",
   "metadata": {},
   "outputs": [],
   "source": [
    "def run_ols (df, x_vars='Rare Earth Deposits', y_vars='Amount (Constant USD2017)', constant=True):\n",
    "    x = df[x_vars].tolist()\n",
    "    y = df[y_vars].tolist()\n",
    "\n",
    "    y = np.log(y)\n",
    "\n",
    "    if constant:\n",
    "        x = sm.add_constant(x)\n",
    "\n",
    "    # performing the regression\n",
    "    # and fitting the model\n",
    "    result = sm.OLS(y, x).fit()\n",
    "  \n",
    "    # printing the summary table\n",
    "    print(result.summary())"
   ]
  },
  {
   "cell_type": "code",
   "execution_count": null,
   "id": "a6548374",
   "metadata": {},
   "outputs": [],
   "source": [
    "# all recipients, all flows\n",
    "combined_agg = combine_dataframes(chinese_dev_finance, rare_earths)\n",
    "run_ols(combined_agg)"
   ]
  },
  {
   "cell_type": "code",
   "execution_count": null,
   "id": "a6548374",
   "metadata": {},
   "outputs": [],
   "source": [
    "# all countries w/ rare earths, all flows\n",
    "combined_agg_allcountries = combine_dataframes(chinese_dev_finance, rare_earths, cfd_dropna=False)\n",
    "run_ols(combined_agg_allcountries)"
   ]
  },
  {
   "cell_type": "code",
   "execution_count": null,
   "id": "a6548374",
   "metadata": {},
   "outputs": [],
   "source": [
    "# all recipients, only loans\n",
    "combined_onlyloans = combine_dataframes(chinese_dev_finance_loans, rare_earths)\n",
    "run_ols(combined_onlyloans)"
   ]
  },
  {
   "cell_type": "code",
   "execution_count": null,
   "id": "09c1d998",
   "metadata": {},
   "outputs": [],
   "source": [
    "# all recipients, only grants\n",
    "combined_onlygrants = combine_dataframes(chinese_dev_finance_grants, rare_earths)\n",
    "run_ols(combined_onlygrants)"
   ]
  },
  {
   "cell_type": "code",
   "execution_count": null,
   "id": "b3ada3fe",
   "metadata": {},
   "outputs": [],
   "source": [
    "# all recipients w/rare earths\n",
    "combined_recip_with_re = combine_dataframes(chinese_dev_finance, rare_earths, rare_earth_dropna=True)\n",
    "run_ols(combined_recip_with_re)"
   ]
  }
 ],
 "metadata": {
  "kernelspec": {
   "display_name": "Python 3 (ipykernel)",
   "language": "python",
   "name": "python3"
  },
  "language_info": {
   "codemirror_mode": {
    "name": "ipython",
    "version": 3
   },
   "file_extension": ".py",
   "mimetype": "text/x-python",
   "name": "python",
   "nbconvert_exporter": "python",
   "pygments_lexer": "ipython3",
   "version": "3.8.9"
  }
 },
 "nbformat": 4,
 "nbformat_minor": 5
}
